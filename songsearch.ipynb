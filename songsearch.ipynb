{
  "nbformat": 4,
  "nbformat_minor": 0,
  "metadata": {
    "colab": {
      "provenance": [],
      "authorship_tag": "ABX9TyNKtoyvlgY+Ydbo5obyr8T+",
      "include_colab_link": true
    },
    "kernelspec": {
      "name": "python3",
      "display_name": "Python 3"
    },
    "language_info": {
      "name": "python"
    }
  },
  "cells": [
    {
      "cell_type": "markdown",
      "metadata": {
        "id": "view-in-github",
        "colab_type": "text"
      },
      "source": [
        "<a href=\"https://colab.research.google.com/github/elifmacit/Sqlsongsearch/blob/main/songsearch.ipynb\" target=\"_parent\"><img src=\"https://colab.research.google.com/assets/colab-badge.svg\" alt=\"Open In Colab\"/></a>"
      ]
    },
    {
      "cell_type": "code",
      "execution_count": null,
      "metadata": {
        "id": "_jZQiLQYk-OS"
      },
      "outputs": [],
      "source": [
        "import sqlite3\n",
        "\n",
        "chinook_db = \"chinook.db\"\n",
        "\n",
        "conn = sqlite3.connect(chinook_db)\n",
        "cursor = conn.cursor()\n",
        "keyword = input(\"Aranacak anahtar kelimeyi girin: \")\n",
        "print(\"Arama yapılıyor...\")\n",
        "sql_query = f\"\"\"\n",
        "    SELECT\n",
        "        artists.Name AS Artist_Name,\n",
        "        tracks.Name AS Track_Name,\n",
        "        albums.Title AS Album_Title,\n",
        "        genres.Name AS Genre_Name\n",
        "    FROM tracks\n",
        "    JOIN albums ON tracks.AlbumId = albums.AlbumId\n",
        "    JOIN artists ON albums.ArtistId = artists.ArtistId\n",
        "    JOIN genres ON tracks.GenreId = genres.GenreId\n",
        "    WHERE\n",
        "        artists.Name LIKE '%{keyword}%' OR\n",
        "        albums.Title LIKE '%{keyword}%' OR\n",
        "        tracks.Name LIKE '%{keyword}%' OR\n",
        "        genres.Name LIKE '%{keyword}%'\n",
        "    ORDER BY artists.Name, albums.Title;\n",
        "\"\"\"\n",
        "\n",
        "cursor.execute(sql_query)\n",
        "results = cursor.fetchall()\n",
        "if results:\n",
        "    for row in results:\n",
        "        print(row)\n",
        "else:\n",
        "    print(\"Eşleşen kayıt bulunamadı.\")"
      ]
    },
    {
      "cell_type": "code",
      "source": [],
      "metadata": {
        "id": "COX0i5XtynHG"
      },
      "execution_count": null,
      "outputs": []
    }
  ]
}