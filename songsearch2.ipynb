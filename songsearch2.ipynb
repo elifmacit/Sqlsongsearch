{
  "nbformat": 4,
  "nbformat_minor": 0,
  "metadata": {
    "colab": {
      "provenance": [],
      "authorship_tag": "ABX9TyPG7D1xjKsAeU2Zo+iX/WKd",
      "include_colab_link": true
    },
    "kernelspec": {
      "name": "python3",
      "display_name": "Python 3"
    },
    "language_info": {
      "name": "python"
    }
  },
  "cells": [
    {
      "cell_type": "markdown",
      "metadata": {
        "id": "view-in-github",
        "colab_type": "text"
      },
      "source": [
        "<a href=\"https://colab.research.google.com/github/elifmacit/Sqlsongsearch/blob/main/songsearch2.ipynb\" target=\"_parent\"><img src=\"https://colab.research.google.com/assets/colab-badge.svg\" alt=\"Open In Colab\"/></a>"
      ]
    },
    {
      "cell_type": "code",
      "execution_count": null,
      "metadata": {
        "id": "_jZQiLQYk-OS",
        "collapsed": true
      },
      "outputs": [],
      "source": [
        "import sqlite3\n",
        "\n",
        "chinook_db = \"chinook.db\"\n",
        "\n",
        "conn = sqlite3.connect(chinook_db)\n",
        "cursor = conn.cursor()\n",
        "keyword = input(\"Aranacak anahtar kelimeyi girin: \")\n",
        "print(\"Arama yapılıyor...\")\n",
        "sql_query = f\"\"\"\n",
        "    SELECT\n",
        "        artists.Name AS Artist_Name,\n",
        "        tracks.Name AS Track_Name,\n",
        "        albums.Title AS Album_Title,\n",
        "        genres.Name AS Genre_Name\n",
        "    FROM tracks\n",
        "    JOIN albums ON tracks.AlbumId = albums.AlbumId\n",
        "    JOIN artists ON albums.ArtistId = artists.ArtistId\n",
        "    JOIN genres ON tracks.GenreId = genres.GenreId\n",
        "    WHERE\n",
        "        artists.Name LIKE '%{keyword}%' OR\n",
        "        albums.Title LIKE '%{keyword}%' OR\n",
        "        tracks.Name LIKE '%{keyword}%' OR\n",
        "        genres.Name LIKE '%{keyword}%'\n",
        "    ORDER BY artists.Name, albums.Title;\n",
        "\"\"\"\n",
        "\n",
        "cursor.execute(sql_query)\n",
        "results = cursor.fetchall()\n",
        "if results:\n",
        "    for row in results:\n",
        "        print(row)\n",
        "else:\n",
        "    print(\"Eşleşen kayıt bulunamadı.\")"
      ]
    },
    {
      "cell_type": "code",
      "source": [
        "import sqlite3\n",
        "\n",
        "chinook_db = \"chinook.db\"\n",
        "\n",
        "conn = sqlite3.connect(chinook_db)\n",
        "cursor = conn.cursor()\n",
        "\n",
        "keyword = input(\"Aranacak anahtar kelimeyi girin: \")\n",
        "keywords = keyword.split()\n",
        "\n",
        "# Her kelime için 4 alanda LIKE araması\n",
        "conditions = []\n",
        "for word in keywords:\n",
        "    conditions.append(f\"\"\"\n",
        "        (artists.Name LIKE '%{word}%' OR\n",
        "         albums.Title LIKE '%{word}%' OR\n",
        "         tracks.Name LIKE '%{word}%' OR\n",
        "         genres.Name LIKE '%{word}%')\n",
        "    \"\"\")\n",
        "\n",
        "# En az bir kelime tutsun: OR\n",
        "# Hepsi birden tutsun istersen aşağıyı \" AND \".join(conditions) yap\n",
        "where_clause = \" AND \".join(conditions)\n",
        "print(\"Arama yapılıyor...\")\n",
        "sql_query = f\"\"\"\n",
        "    SELECT\n",
        "        artists.Name AS Artist_Name,\n",
        "        tracks.Name AS Track_Name,\n",
        "        albums.Title AS Album_Title,\n",
        "        genres.Name AS Genre_Name\n",
        "    FROM tracks\n",
        "    JOIN albums ON tracks.AlbumId = albums.AlbumId\n",
        "    JOIN artists ON albums.ArtistId = artists.ArtistId\n",
        "    JOIN genres ON tracks.GenreId = genres.GenreId\n",
        "    WHERE {where_clause}\n",
        "    ORDER BY artists.Name, albums.Title;\n",
        "\"\"\"\n",
        "\n",
        "cursor.execute(sql_query)\n",
        "results = cursor.fetchall()\n",
        "\n",
        "if results:\n",
        "    for row in results:\n",
        "        print(row)\n",
        "else:\n",
        "    print(\"Eşleşen kayıt bulunamadı.\")\n",
        "\n",
        "conn.close()\n"
      ],
      "metadata": {
        "id": "cxSROrfd0GxB",
        "colab": {
          "base_uri": "https://localhost:8080/"
        },
        "outputId": "fa69e482-be1c-4a14-f9a8-5822bbd42b05"
      },
      "execution_count": 17,
      "outputs": [
        {
          "output_type": "stream",
          "name": "stdout",
          "text": [
            "Aranacak anahtar kelimeyi girin: evil dc\n",
            "Arama yapılıyor...\n",
            "('AC/DC', 'Evil Walks', 'For Those About To Rock We Salute You', 'Rock')\n"
          ]
        }
      ]
    }
  ]
}