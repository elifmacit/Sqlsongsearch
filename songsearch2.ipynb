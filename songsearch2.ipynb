{
  "nbformat": 4,
  "nbformat_minor": 0,
  "metadata": {
    "colab": {
      "provenance": [],
      "authorship_tag": "ABX9TyNWgVUizW8yWVvSmQQCV0Ej",
      "include_colab_link": true
    },
    "kernelspec": {
      "name": "python3",
      "display_name": "Python 3"
    },
    "language_info": {
      "name": "python"
    }
  },
  "cells": [
    {
      "cell_type": "markdown",
      "metadata": {
        "id": "view-in-github",
        "colab_type": "text"
      },
      "source": [
        "<a href=\"https://colab.research.google.com/github/elifmacit/Sqlsongsearch/blob/main/songsearch2.ipynb\" target=\"_parent\"><img src=\"https://colab.research.google.com/assets/colab-badge.svg\" alt=\"Open In Colab\"/></a>"
      ]
    },
    {
      "cell_type": "code",
      "execution_count": 13,
      "metadata": {
        "colab": {
          "base_uri": "https://localhost:8080/",
          "height": 356
        },
        "id": "_jZQiLQYk-OS",
        "outputId": "49faa47d-b2a4-4631-d521-ce2231e0558e"
      },
      "outputs": [
        {
          "output_type": "error",
          "ename": "KeyboardInterrupt",
          "evalue": "Interrupted by user",
          "traceback": [
            "\u001b[0;31m---------------------------------------------------------------------------\u001b[0m",
            "\u001b[0;31mKeyboardInterrupt\u001b[0m                         Traceback (most recent call last)",
            "\u001b[0;32m/tmp/ipython-input-890746144.py\u001b[0m in \u001b[0;36m<cell line: 0>\u001b[0;34m()\u001b[0m\n\u001b[1;32m      5\u001b[0m \u001b[0mconn\u001b[0m \u001b[0;34m=\u001b[0m \u001b[0msqlite3\u001b[0m\u001b[0;34m.\u001b[0m\u001b[0mconnect\u001b[0m\u001b[0;34m(\u001b[0m\u001b[0mchinook_db\u001b[0m\u001b[0;34m)\u001b[0m\u001b[0;34m\u001b[0m\u001b[0;34m\u001b[0m\u001b[0m\n\u001b[1;32m      6\u001b[0m \u001b[0mcursor\u001b[0m \u001b[0;34m=\u001b[0m \u001b[0mconn\u001b[0m\u001b[0;34m.\u001b[0m\u001b[0mcursor\u001b[0m\u001b[0;34m(\u001b[0m\u001b[0;34m)\u001b[0m\u001b[0;34m\u001b[0m\u001b[0;34m\u001b[0m\u001b[0m\n\u001b[0;32m----> 7\u001b[0;31m \u001b[0mkeyword\u001b[0m \u001b[0;34m=\u001b[0m \u001b[0minput\u001b[0m\u001b[0;34m(\u001b[0m\u001b[0;34m\"Aranacak anahtar kelimeyi girin: \"\u001b[0m\u001b[0;34m)\u001b[0m\u001b[0;34m\u001b[0m\u001b[0;34m\u001b[0m\u001b[0m\n\u001b[0m\u001b[1;32m      8\u001b[0m \u001b[0mprint\u001b[0m\u001b[0;34m(\u001b[0m\u001b[0;34m\"Arama yapılıyor...\"\u001b[0m\u001b[0;34m)\u001b[0m\u001b[0;34m\u001b[0m\u001b[0;34m\u001b[0m\u001b[0m\n\u001b[1;32m      9\u001b[0m sql_query = f\"\"\"\n",
            "\u001b[0;32m/usr/local/lib/python3.12/dist-packages/ipykernel/kernelbase.py\u001b[0m in \u001b[0;36mraw_input\u001b[0;34m(self, prompt)\u001b[0m\n\u001b[1;32m   1175\u001b[0m                 \u001b[0;34m\"raw_input was called, but this frontend does not support input requests.\"\u001b[0m\u001b[0;34m\u001b[0m\u001b[0;34m\u001b[0m\u001b[0m\n\u001b[1;32m   1176\u001b[0m             )\n\u001b[0;32m-> 1177\u001b[0;31m         return self._input_request(\n\u001b[0m\u001b[1;32m   1178\u001b[0m             \u001b[0mstr\u001b[0m\u001b[0;34m(\u001b[0m\u001b[0mprompt\u001b[0m\u001b[0;34m)\u001b[0m\u001b[0;34m,\u001b[0m\u001b[0;34m\u001b[0m\u001b[0;34m\u001b[0m\u001b[0m\n\u001b[1;32m   1179\u001b[0m             \u001b[0mself\u001b[0m\u001b[0;34m.\u001b[0m\u001b[0m_parent_ident\u001b[0m\u001b[0;34m[\u001b[0m\u001b[0;34m\"shell\"\u001b[0m\u001b[0;34m]\u001b[0m\u001b[0;34m,\u001b[0m\u001b[0;34m\u001b[0m\u001b[0;34m\u001b[0m\u001b[0m\n",
            "\u001b[0;32m/usr/local/lib/python3.12/dist-packages/ipykernel/kernelbase.py\u001b[0m in \u001b[0;36m_input_request\u001b[0;34m(self, prompt, ident, parent, password)\u001b[0m\n\u001b[1;32m   1217\u001b[0m             \u001b[0;32mexcept\u001b[0m \u001b[0mKeyboardInterrupt\u001b[0m\u001b[0;34m:\u001b[0m\u001b[0;34m\u001b[0m\u001b[0;34m\u001b[0m\u001b[0m\n\u001b[1;32m   1218\u001b[0m                 \u001b[0;31m# re-raise KeyboardInterrupt, to truncate traceback\u001b[0m\u001b[0;34m\u001b[0m\u001b[0;34m\u001b[0m\u001b[0m\n\u001b[0;32m-> 1219\u001b[0;31m                 \u001b[0;32mraise\u001b[0m \u001b[0mKeyboardInterrupt\u001b[0m\u001b[0;34m(\u001b[0m\u001b[0;34m\"Interrupted by user\"\u001b[0m\u001b[0;34m)\u001b[0m \u001b[0;32mfrom\u001b[0m \u001b[0;32mNone\u001b[0m\u001b[0;34m\u001b[0m\u001b[0;34m\u001b[0m\u001b[0m\n\u001b[0m\u001b[1;32m   1220\u001b[0m             \u001b[0;32mexcept\u001b[0m \u001b[0mException\u001b[0m\u001b[0;34m:\u001b[0m\u001b[0;34m\u001b[0m\u001b[0;34m\u001b[0m\u001b[0m\n\u001b[1;32m   1221\u001b[0m                 \u001b[0mself\u001b[0m\u001b[0;34m.\u001b[0m\u001b[0mlog\u001b[0m\u001b[0;34m.\u001b[0m\u001b[0mwarning\u001b[0m\u001b[0;34m(\u001b[0m\u001b[0;34m\"Invalid Message:\"\u001b[0m\u001b[0;34m,\u001b[0m \u001b[0mexc_info\u001b[0m\u001b[0;34m=\u001b[0m\u001b[0;32mTrue\u001b[0m\u001b[0;34m)\u001b[0m\u001b[0;34m\u001b[0m\u001b[0;34m\u001b[0m\u001b[0m\n",
            "\u001b[0;31mKeyboardInterrupt\u001b[0m: Interrupted by user"
          ]
        }
      ],
      "source": [
        "import sqlite3\n",
        "\n",
        "chinook_db = \"chinook.db\"\n",
        "\n",
        "conn = sqlite3.connect(chinook_db)\n",
        "cursor = conn.cursor()\n",
        "keyword = input(\"Aranacak anahtar kelimeyi girin: \")\n",
        "print(\"Arama yapılıyor...\")\n",
        "sql_query = f\"\"\"\n",
        "    SELECT\n",
        "        artists.Name AS Artist_Name,\n",
        "        tracks.Name AS Track_Name,\n",
        "        albums.Title AS Album_Title,\n",
        "        genres.Name AS Genre_Name\n",
        "    FROM tracks\n",
        "    JOIN albums ON tracks.AlbumId = albums.AlbumId\n",
        "    JOIN artists ON albums.ArtistId = artists.ArtistId\n",
        "    JOIN genres ON tracks.GenreId = genres.GenreId\n",
        "    WHERE\n",
        "        artists.Name LIKE '%{keyword}%' OR\n",
        "        albums.Title LIKE '%{keyword}%' OR\n",
        "        tracks.Name LIKE '%{keyword}%' OR\n",
        "        genres.Name LIKE '%{keyword}%'\n",
        "    ORDER BY artists.Name, albums.Title;\n",
        "\"\"\"\n",
        "\n",
        "cursor.execute(sql_query)\n",
        "results = cursor.fetchall()\n",
        "if results:\n",
        "    for row in results:\n",
        "        print(row)\n",
        "else:\n",
        "    print(\"Eşleşen kayıt bulunamadı.\")"
      ]
    },
    {
      "cell_type": "code",
      "source": [
        "import sqlite3\n",
        "\n",
        "# Veritabanı dosyası\n",
        "chinook_db = \"chinook.db\"\n",
        "\n",
        "# Veritabanına bağlan\n",
        "try:\n",
        "    conn = sqlite3.connect(chinook_db)\n",
        "    cursor = conn.cursor()\n",
        "\n",
        "    # Kullanıcıdan birden fazla anahtar kelimeyi al (aralarında boşlukla)\n",
        "    keywords_input = input(\"Aramak istediğiniz anahtar kelimeleri aralarında boşluk bırakarak girin: \")\n",
        "\n",
        "    # Girdiyi boşluklara göre ayırarak bir kelime listesi oluştur\n",
        "    keywords = keywords_input.split()\n",
        "\n",
        "    if not keywords:\n",
        "        print(\"Lütfen en az bir anahtar kelime girin.\")\n",
        "    else:\n",
        "        print(\"Arama yapılıyor...\")\n",
        "\n",
        "        # Temel SQL sorgusu\n",
        "        base_query = \"\"\"\n",
        "            SELECT\n",
        "                artists.Name AS Artist_Name,\n",
        "                tracks.Name AS Track_Name,\n",
        "                albums.Title AS Album_Title,\n",
        "                genres.Name AS Genre_Name\n",
        "            FROM tracks\n",
        "            JOIN albums ON tracks.AlbumId = albums.AlbumId\n",
        "            JOIN artists ON albums.ArtistId = artists.ArtistId\n",
        "            JOIN genres ON tracks.GenreId = genres.GenreId\n",
        "        \"\"\"\n",
        "\n",
        "        # WHERE koşullarını ve parametreleri dinamik olarak oluşturmak için boş listeler\n",
        "        where_clauses = []\n",
        "        params = []\n",
        "\n",
        "        # Her bir anahtar kelime için bir koşul bloğu oluştur\n",
        "        for keyword in keywords:\n",
        "            # Her anahtar kelime, dört alandan herhangi birinde olabilir (OR ile bağlı)\n",
        "            # Bu blok parantez içine alınır\n",
        "            where_clauses.append(\"(artists.Name LIKE ? OR albums.Title LIKE ? OR tracks.Name LIKE ? OR genres.Name LIKE ?)\")\n",
        "\n",
        "            # Parametre listesine her bir '?' için değeri ekle\n",
        "            # '%' sembolleri ile kelimenin herhangi bir yerinde geçmesini sağlıyoruz\n",
        "            like_keyword = f'%{keyword}%'\n",
        "            params.extend([like_keyword, like_keyword, like_keyword, like_keyword])\n",
        "\n",
        "        # Sorguyu tamamla: Temel sorguya WHERE koşullarını 'AND' ile birleştirerek ekle\n",
        "        sql_query = base_query + \" WHERE \" + \" AND \".join(where_clauses) + \" ORDER BY artists.Name, albums.Title;\"\n",
        "\n",
        "        # Hazırlanan sorguyu ve parametreleri çalıştır\n",
        "        cursor.execute(sql_query, params)\n",
        "        results = cursor.fetchall()\n",
        "\n",
        "        if results:\n",
        "            print(f\"\\n'{keywords_input}' için {len(results)} sonuç bulundu:\\n\")\n",
        "            for row in results:\n",
        "                print(f\"Sanatçı: {row[0]}, Şarkı: {row[1]}, Albüm: {row[2]}, Tür: {row[3]}\")\n",
        "        else:\n",
        "            print(\"Eşleşen kayıt bulunamadı.\")\n",
        "\n",
        "except sqlite3.Error as e:\n",
        "    print(f\"Veritabanı hatası: {e}\")\n",
        "finally:\n",
        "    # Bağlantıyı kapat\n",
        "    if conn:\n",
        "        conn.close()"
      ],
      "metadata": {
        "colab": {
          "base_uri": "https://localhost:8080/"
        },
        "id": "a8bFmy5szVtG",
        "outputId": "f590e06b-01ce-4853-b041-e7d1fe65c52a"
      },
      "execution_count": 12,
      "outputs": [
        {
          "output_type": "stream",
          "name": "stdout",
          "text": [
            "Aramak istediğiniz anahtar kelimeleri aralarında boşluk bırakarak girin: war gods\n",
            "Arama yapılıyor...\n",
            "\n",
            "'war gods' için 2 sonuç bulundu:\n",
            "\n",
            "Sanatçı: Battlestar Galactica (Classic), Şarkı: War of the Gods, Pt. 1, Albüm: Battlestar Galactica (Classic), Season 1, Tür: Sci Fi & Fantasy\n",
            "Sanatçı: Battlestar Galactica (Classic), Şarkı: War of the Gods, Pt. 2, Albüm: Battlestar Galactica (Classic), Season 1, Tür: Sci Fi & Fantasy\n"
          ]
        }
      ]
    },
    {
      "cell_type": "code",
      "source": [],
      "metadata": {
        "id": "cxSROrfd0GxB"
      },
      "execution_count": null,
      "outputs": []
    }
  ]
}